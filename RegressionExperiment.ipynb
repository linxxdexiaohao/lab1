{
 "cells": [
  {
   "cell_type": "code",
   "execution_count": 1,
   "metadata": {},
   "outputs": [
    {
     "name": "stdout",
     "output_type": "stream",
     "text": [
      "开始100次迭代:绿色曲线为Ltrain，红色曲线为Lvalidation\n"
     ]
    },
    {
     "data": {
      "image/png": "[encoded data removed]",
      "text/plain": [
       "<matplotlib.figure.Figure at 0x2a744919e10>"
      ]
     },
     "metadata": {},
     "output_type": "display_data"
    },
    {
     "name": "stdout",
     "output_type": "stream",
     "text": [
      "完成\n"
     ]
    }
   ],
   "source": [
    "from numpy import *\n",
    "import numpy as np\n",
    "from sklearn.model_selection import train_test_split\n",
    "from sklearn.externals.joblib import Memory\n",
    "from sklearn.datasets import load_svmlight_file\n",
    "import matplotlib.pyplot as plt\n",
    "import time\n",
    "import warnings\n",
    "warnings.filterwarnings(\"ignore\")\n",
    "mem = Memory(\"./mycache\")\n",
    "@mem.cache\n",
    "\n",
    "def get_data():\n",
    "    data = load_svmlight_file(\"h\")\n",
    "    return data[0], data[1]\n",
    "\n",
    "\n",
    "def model(weight,x):                   #线性模型\n",
    "    return x.dot(weight)\n",
    "\n",
    "def loss(weight,x,y,l):                  #Loss函数\n",
    "    sum = 0.\n",
    "    idex = 0\n",
    "    y = mat (y)\n",
    "    y = y.T\n",
    "    for line in y:\n",
    "          y_pred = model(weight,x[idex ,:])     \n",
    "          y_pred = y_pred - y[idex ,:]\n",
    "          y_pred = y_pred**2\n",
    "          sum = sum + y_pred\n",
    "          idex = idex + 1\n",
    "    return sum/2/l                           \n",
    "\n",
    "def grad(weight,idex_weight,x,y,rate,l):     #求得所有样本对Loss函数的梯度G并取负方向D\n",
    "    idex = 0\n",
    "    sum = 0.\n",
    "    for line in y:\n",
    "            y_pred = model(weight,x[idex ,:]) - y[idex]\n",
    "            y_pred = y_pred * x[idex,idex_weight]  \n",
    "            idex = idex +1\n",
    "            sum = sum + y_pred\n",
    "    return -sum/l\n",
    "\n",
    "\n",
    "def updateW(weight,x,y,rate,l):     #更新模型参数\n",
    "    idex_weight = 0\n",
    "    for line1 in weight:\n",
    "            weight[idex_weight]= weight[idex_weight] + rate * grad(weight,idex_weight,x,y,rate,l) \n",
    "            idex_weight = idex_weight+1\n",
    "    return weight                            \n",
    "\n",
    "    \n",
    "def linearRegression(x,y):                           #线性回归函数\n",
    "    start = time.clock()\n",
    "    weight = np.array([0.,0.,0.,0.,0.,0.,0.,0.,0.,0.,0.,0.,0.,0.])    #线性模型参数全零初始化\n",
    "    iter = 0                #迭代器\n",
    "    iter = int(iter)\n",
    "    iterations = []\n",
    "    loss_rec = []      #记录loss函数值\n",
    "    l = len(y)   \n",
    "    l = int(l)\n",
    "    rate = 0.1               #学习率\n",
    "\n",
    "    loss_val = loss(weight,x,y,l)           #选择Loss函数及对其求导\n",
    "    loss_rec.append(loss_val)\n",
    "    iterations.append(iter)\n",
    "    while iter < 100:\n",
    "          weight = updateW(weight,x,y,rate,l)              #计算梯度\n",
    "          loss_updata = loss(weight,x,y,l)                 #计算Loss\n",
    "          iter = iter + 1\n",
    "          loss_val = loss_updata\n",
    "          loss_rec.append(loss_val)\n",
    "          iterations.append(iter)\n",
    "    end = time.clock()\n",
    "    return loss_rec,iterations\n",
    "\n",
    "def showLoss(X_train,y_train,X_test,y_test):         # 显示loss随迭代次数的变化图\n",
    "    plt.xlabel('iteration')                   \n",
    "    plt.ylabel('loss')                              \n",
    "    plt.plot(X_train,y_train,'g.')\n",
    "    plt.plot(X_test,y_test,'r.')\n",
    "    plt.show()\n",
    "\n",
    "def add_bias(X):\n",
    "    temp_y=X.shape[1]+1\n",
    "    temp=ones((X.shape[0],temp_y))\n",
    "    for i in range(X.shape[0]):\n",
    "        for j in range(X.shape[1]):\n",
    "            temp[i,j]=X[i,j]\n",
    "    return temp\n",
    "    \n",
    "X, y = get_data()\n",
    "X=add_bias(X)  \n",
    "X_train, X_test, y_train, y_test = train_test_split(X, y, test_size=0.33, random_state=42)\n",
    "print(\"开始100次迭代:绿色曲线为Ltrain，红色曲线为Lvalidation\")\n",
    "Ltrain,iter_train= linearRegression(X_train,y_train)\n",
    "Lvalidation,iter_validation= linearRegression(X_test,y_test)\n",
    "showLoss(mat(np.array(iter_train)),mat(np.array(Ltrain)),mat(np.array(iter_validation)),mat(np.array(Lvalidation)))\n",
    "print(\"完成\")\n",
    "\n"
   ]
  },
  {
   "cell_type": "code",
   "execution_count": null,
   "metadata": {},
   "outputs": [],
   "source": []
  }
 ],
 "metadata": {
  "kernelspec": {
   "display_name": "Python 3",
   "language": "python",
   "name": "python3"
  },
  "language_info": {
   "codemirror_mode": {
    "name": "ipython",
    "version": 3
   },
   "file_extension": ".py",
   "mimetype": "text/x-python",
   "name": "python",
   "nbconvert_exporter": "python",
   "pygments_lexer": "ipython3",
   "version": "3.6.3"
  }
 },
 "nbformat": 4,
 "nbformat_minor": 2
}
