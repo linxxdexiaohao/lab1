{
 "cells": [
  {
   "cell_type": "code",
   "execution_count": 12,
   "metadata": {
    "scrolled": false
   },
   "outputs": [
    {
     "name": "stdout",
     "output_type": "stream",
     "text": [
      "开始1000次迭代:绿色曲线为Ltrain，红色曲线为Lvalidation\n"
     ]
    },
    {
     "data": {
      "image/png": "[encoded data removed]",
      "text/plain": [
       "<matplotlib.figure.Figure at 0x225181e7ac8>"
      ]
     },
     "metadata": {},
     "output_type": "display_data"
    }
   ],
   "source": [
    "from numpy import *\n",
    "import numpy as np\n",
    "from sklearn.model_selection import train_test_split\n",
    "from sklearn.externals.joblib import Memory\n",
    "from sklearn.datasets import load_svmlight_file\n",
    "import matplotlib.pyplot as plt\n",
    "import time\n",
    "mem = Memory(\"./mycache\")\n",
    "@mem.cache\n",
    "\n",
    "def get_data():\n",
    "    data = load_svmlight_file(\"a\")\n",
    "    return data[0], data[1]\n",
    "\n",
    "\n",
    "def loss(X, y, weight, C):\n",
    "    loss_ = 0.\n",
    "    idex = 0\n",
    "    y = mat (y)\n",
    "    y = y.T\n",
    "    for line in y:\n",
    "        s = (y[idex,:] * (np.dot(X[idex,:], weight))).sum()\n",
    "        loss_ = (weight ** 2).sum() + C * max(0,1-s)     \n",
    "        idex=idex+1\n",
    "    return loss_                     \n",
    "\n",
    "def grad(X, y, weight, C):\n",
    "    temp = np.zeros(len(weight))\n",
    "    for i in range(X.shape[0]):\n",
    "        if y[i] * np.dot(X[i,:], weight) < 1:\n",
    "            temp += -y[i] * X[i,:]\n",
    "    return weight + C * temp\n",
    "    \n",
    "X, y = get_data()\n",
    "X = X.toarray()\n",
    "X = np.c_[np.ones(len(X)), X]\n",
    "X_train,X_test, y_train, y_test = train_test_split(X, y, test_size=0.3, random_state=0)\n",
    "print(\"开始1000次迭代:绿色曲线为Ltrain，红色曲线为Lvalidation\")\n",
    "weight = np.zeros(X_train.shape[1])\n",
    "C = 5\n",
    "Ltrain = []\n",
    "Lvalidation = []\n",
    "iteration_num = 1000\n",
    "for i in range(iteration_num):\n",
    "    G = grad(X_train, y_train, weight, C)\n",
    "    rate = 0.00005\n",
    "    D = -G\n",
    "    weight = weight + rate * D\n",
    "    Ltrain.append(loss(X_train, y_train, weight, C))\n",
    "    Lvalidation.append(loss(X_test, y_test, weight, C))\n",
    "    \n",
    "plt.plot(range(iteration_num),Ltrain,'g')\n",
    "plt.plot(range(iteration_num),Lvalidation,'r')\n",
    "plt.xlabel('iteration')\n",
    "plt.ylabel('loss')\n",
    "plt.show()"
   ]
  },
  {
   "cell_type": "code",
   "execution_count": null,
   "metadata": {},
   "outputs": [],
   "source": []
  },
  {
   "cell_type": "code",
   "execution_count": null,
   "metadata": {},
   "outputs": [],
   "source": []
  },
  {
   "cell_type": "code",
   "execution_count": null,
   "metadata": {},
   "outputs": [],
   "source": []
  }
 ],
 "metadata": {
  "kernelspec": {
   "display_name": "Python 3",
   "language": "python",
   "name": "python3"
  },
  "language_info": {
   "codemirror_mode": {
    "name": "ipython",
    "version": 3
   },
   "file_extension": ".py",
   "mimetype": "text/x-python",
   "name": "python",
   "nbconvert_exporter": "python",
   "pygments_lexer": "ipython3",
   "version": "3.6.3"
  }
 },
 "nbformat": 4,
 "nbformat_minor": 2
}
